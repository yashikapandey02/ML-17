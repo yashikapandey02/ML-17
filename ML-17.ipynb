{
 "cells": [
  {
   "cell_type": "code",
   "execution_count": null,
   "id": "645296a6",
   "metadata": {},
   "outputs": [],
   "source": [
    "1. Using a graph to illustrate slope and intercept, define basic linear regression ?\n",
    "Ans: The equation y=mx+c represents a straight line graphically, where m is its slope/gradient and c its intercept."
   ]
  },
  {
   "cell_type": "code",
   "execution_count": 2,
   "id": "f4c75a59",
   "metadata": {},
   "outputs": [
    {
     "data": {
      "image/png": "[encoded data removed]",
      "text/plain": [
       "<Figure size 640x480 with 1 Axes>"
      ]
     },
     "metadata": {},
     "output_type": "display_data"
    },
    {
     "data": {
      "text/plain": [
       "None"
      ]
     },
     "metadata": {},
     "output_type": "display_data"
    }
   ],
   "source": [
    "import matplotlib.pyplot as plt\n",
    "import numpy as np\n",
    "x = np.linspace(-5,5,100)\n",
    "y = 2*x+1\n",
    "plt.plot(x, y, '-r', label='y=2x+1')\n",
    "plt.title('Graph of y=2x+1')\n",
    "plt.xlabel('x', color='#1C2833')\n",
    "plt.ylabel('y', color='#1C2833')\n",
    "plt.legend(loc='upper left')\n",
    "plt.grid()\n",
    "display(plt.show())"
   ]
  },
  {
   "cell_type": "code",
   "execution_count": null,
   "id": "9f694a93",
   "metadata": {},
   "outputs": [],
   "source": [
    "2. In a graph, explain the terms rise, run, and slope ?\n",
    "Ans: The slope of a line measures the steepness of the line. Most of you are probably familiar with associating slope with\n",
    "    \"Rise Over Run\". Rise means how many units you move up or down from point to point. On the graph that would be a change\n",
    "    in the y values. Run means how far left or right you move from point to point."
   ]
  },
  {
   "cell_type": "code",
   "execution_count": null,
   "id": "3b9303ce",
   "metadata": {},
   "outputs": [],
   "source": [
    "3. Use a graph to demonstrate slope, linear positive slope, and linear negative slope, as well as the different conditions that\n",
    "contribute to slope ?\n",
    "Ans: The steepness of a hill is called a slope. The same goes for the steepness of a line. The slope is defined as the ratio of\n",
    "    the vertical change between two points, the rise, to the horizontal change between the same two points, the run.\n",
    "\n",
    "Slope=Rise/Run=ChangeinY/changeinX\n",
    "\n",
    "The slope of a line is usually represented by the letter m. (x1, y1) represents the first point whereas (x2, y2) represents the\n",
    "second point.\n",
    "\n",
    "M=Y2−Y1/X2−X1\n",
    "\n",
    "It is important to keep the x-and y-coordinates in the same order in both the numerator and the denominator otherwise you will \n",
    "get the wrong slope."
   ]
  },
  {
   "cell_type": "code",
   "execution_count": null,
   "id": "716a04da",
   "metadata": {},
   "outputs": [],
   "source": [
    "4. Use a graph to demonstrate curve linear negative slope and curve linear positive slope ?\n",
    "Ans: Image result for a graph to demonstrate curve linear negative slope and curve linear positive slope.If the signs are\n",
    "    different then the answer is negative! If the slope is negative you can plot your next point by going down and right OR\n",
    "    up and left. f the slope is positive you can plot your next point by going up and right OR down and left."
   ]
  },
  {
   "cell_type": "code",
   "execution_count": null,
   "id": "86f62aab",
   "metadata": {},
   "outputs": [],
   "source": [
    "5. Use a graph to show the maximum and low points of curves ?\n",
    "Ans: To find the maximum/minimum of a curve you must first differentiate the function and then equate it to zero. This gives\n",
    "    you one coordinate. To find the other you must resubstitute the one already found into the original function."
   ]
  },
  {
   "cell_type": "code",
   "execution_count": null,
   "id": "f08e7ced",
   "metadata": {},
   "outputs": [],
   "source": [
    "6. Use the formulas for a and b to explain ordinary least squares ?\n",
    "Ans:This best line is the Least Squares Regression Line (abbreviated as LSRL). This is true where ˆy is the predicted y-value \n",
    "    given x, a is the y intercept, b and is the slope. For every x-value, the Least Squares Regression Line makes a predicted\n",
    "    y-value that is close to the observed y-value, but usually slightly off."
   ]
  },
  {
   "cell_type": "code",
   "execution_count": null,
   "id": "89f36d62",
   "metadata": {},
   "outputs": [],
   "source": [
    "7. Provide a step-by-step explanation of the OLS algorithm ?\n",
    "Ans: Ordinary Least Square Method :\n",
    "\n",
    "iSet a difference between dependent variable and its estimation:\n",
    "Square the difference:\n",
    "Take summation for all data.\n",
    "To get the parameters that make the sum of square difference become minimum, take partial derivative for each parameter and \n",
    "equate it with zero."
   ]
  },
  {
   "cell_type": "code",
   "execution_count": null,
   "id": "a46baa94",
   "metadata": {},
   "outputs": [],
   "source": [
    "8. What is the regression's standard error? To represent the same, make a graph ?\n",
    "Ans: The standard error of the regression (S), also known as the standard error of the estimate, represents the average \n",
    "    distance that the observed values fall from the regression line. Conveniently, it tells you how wrong the regression model \n",
    "    is on average using the units of the response variable."
   ]
  },
  {
   "cell_type": "code",
   "execution_count": null,
   "id": "1dc6d818",
   "metadata": {},
   "outputs": [],
   "source": [
    "9. Provide an example of multiple linear regression ?\n",
    "Ans: Multiple Linear Regression is one of the important regression algorithms which models the linear relationship between a\n",
    "    single dependent continuous variable and more than one independent variable. Example: Prediction of CO2 emission based on \n",
    "    engine size and number of cylinders in a car."
   ]
  },
  {
   "cell_type": "code",
   "execution_count": null,
   "id": "6995d64a",
   "metadata": {},
   "outputs": [],
   "source": [
    "10. Describe the regression analysis assumptions and the BLUE principle ?\n",
    "Ans: There are four assumptions associated with a linear regression model:\n",
    "\n",
    "Linearity: The relationship between X and the mean of Y is linear.\n",
    "Homoscedasticity: The variance of residual is the same for any value of X.\n",
    "Independence: Observations are independent of each other.\n",
    "BLUE: is an acronym for the following: Best Linear Unbiased Estimator. In this context, the definition of “best” refers to\n",
    "the minimum variance or the narrowest sampling distribution."
   ]
  },
  {
   "cell_type": "code",
   "execution_count": null,
   "id": "76dc4253",
   "metadata": {},
   "outputs": [],
   "source": [
    "11. Describe two major issues with regression analysis ?\n",
    "Ans: It involves very lengthy and complicated procedure of calculations and analysis. It cannot be used in case of qualitative \n",
    "    phenomenon viz. honesty, crime etc.\n",
    "\n",
    "The overall idea of regression is to examine two things:\n",
    "\n",
    "Does a set of predictor variables do a good job in predicting an outcome (dependent) variable?\n",
    "Which variables in particular are significant predictors of the outcome variable, and in what way do they–indicated by the \n",
    "magnitude and sign of the beta"
   ]
  },
  {
   "cell_type": "code",
   "execution_count": null,
   "id": "b79c852b",
   "metadata": {},
   "outputs": [],
   "source": [
    "12. How can the linear regression model's accuracy be improved ?\n",
    "Ans: 8 Methods to Boost the Accuracy of a Model :\n",
    "\n",
    "i.Add more data. Having more data is always a good idea.\n",
    "ii.Treat missing and Outlier values.\n",
    "iii.Feature Engineering.\n",
    "iv. Feature Selection.\n",
    "v. Multiple algorithms.\n",
    "vi. Algorithm Tuning.\n",
    "vii. Ensemble methods."
   ]
  },
  {
   "cell_type": "code",
   "execution_count": null,
   "id": "b13661ee",
   "metadata": {},
   "outputs": [],
   "source": [
    "13. Using an example, describe the polynomial regression model in detail ?\n",
    "Ans: In statistics, polynomial regression is a form of regression analysis in which the relationship between the independent\n",
    "    variable x and the dependent variable y is modelled as an nth degree polynomial in x.For this reason, polynomial regression \n",
    "    is considered to be a special case of multiple linear regression.\n",
    "\n",
    "Polynomial regression is one of the machine learning algorithms used for making predictions. For example, it is widely applied\n",
    "to predict the spread rate of COVID-19 and other infectious diseases."
   ]
  },
  {
   "cell_type": "code",
   "execution_count": null,
   "id": "1e7bc6f0",
   "metadata": {},
   "outputs": [],
   "source": [
    "14. Provide a detailed explanation of logistic regression ?\n",
    "Ans: Logistic regression is a statistical analysis method used to predict a data value based on prior observations of a data \n",
    "    set.Based on historical data about earlier outcomes involving the same input criteria, it then scores new cases on their \n",
    "    probability of falling into a particular outcome category."
   ]
  },
  {
   "cell_type": "code",
   "execution_count": null,
   "id": "51cd3459",
   "metadata": {},
   "outputs": [],
   "source": [
    "15. What are the logistic regression assumptions ?\n",
    "Ans: Basic assumptions that must be met for logistic regression include independence of errors, linearity in the logit for \n",
    "    continuous variables, absence of multicollinearity, and lack of strongly influential outliers."
   ]
  },
  {
   "cell_type": "code",
   "execution_count": null,
   "id": "56f6b48d",
   "metadata": {},
   "outputs": [],
   "source": [
    "16. Go through the details of maximum likelihood estimation ?\n",
    "Ans: Maximum likelihood estimation is a method that determines values for the parameters of a model. The parameter values\",\n",
    "    are found such that they maximise tprocess he likelihood that the described by the model produced the data that were\", \n",
    "    actually observed.\""
   ]
  }
 ],
 "metadata": {
  "kernelspec": {
   "display_name": "Python 3 (ipykernel)",
   "language": "python",
   "name": "python3"
  },
  "language_info": {
   "codemirror_mode": {
    "name": "ipython",
    "version": 3
   },
   "file_extension": ".py",
   "mimetype": "text/x-python",
   "name": "python",
   "nbconvert_exporter": "python",
   "pygments_lexer": "ipython3",
   "version": "3.10.9"
  }
 },
 "nbformat": 4,
 "nbformat_minor": 5
}
